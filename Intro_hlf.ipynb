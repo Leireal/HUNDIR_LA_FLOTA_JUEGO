{
 "cells": [
  {
   "cell_type": "markdown",
   "metadata": {},
   "source": [
    "![imagen](./img/hundir-la-flota-juego-de-mesa.jpg)"
   ]
  },
  {
   "cell_type": "markdown",
   "metadata": {},
   "source": [
    "En esta entrega vas a crear tu propio juego de **Hundir la flota** en Python. \n",
    "[Aquí](http://es.battleship-game.org/) podrás probarlo online."
   ]
  },
  {
   "attachments": {},
   "cell_type": "markdown",
   "metadata": {},
   "source": [
    "### En clase\n",
    "1. Crea la función `crear_tablero(tamaño)`, un tablero por defecto de 10x10 relleno del carácter \"_\" con numpy.\n",
    "2. Crea la función `colocar_barco(barco, tablero)`, que recibirá la lista de casillas de un barco y el tablero donde colocarlo. Prueba primero a posicionar un par de barcos por ejemplo en [(0,1), (1,1)] y [(1,3), (1,4), (1,5), (1,6)]. Los barcos serán Os mayúsculas. Como ves, un barco de dos posiciones de eslora y otro de cuatro.\n",
    "3. Crea la función `disparar(casilla, tablero)`, si el disparo acierta en un barco sustituye la O por una X (tocado), si es agua, sustituye la _ por una A (Agua). Prueba primero a disparar el barco de 2 casillas.\n",
    "4. Crea la función `crear_barco(eslora)`, que deberá crear una lista de casillas de un barco en función a la eslora, de forma aleatoria.\n",
    "\n",
    "### Proyecto individual\n",
    "5. Crea la función `colocar_barcos(tablero)`, que deberá de colocar la lista de barcos generados de forma aleatoria (6 barcos en total (3 barcos de eslora 2, 2 de eslora 3 y 1 eslora 4)) ¡Mucho ojo con barcos que estén superpuestos (no pueden ocupar dos barcos la misma casilla) o barcos que se salgan del tablero!\n",
    "6. Escribe el flujo completo del programa, con la dinámica de turnos y funcionalidades necesarios para jugar contra la máquina (dispara a tu tablero de forma aleatoria). Crea todas las funciones que necesites y aplica todo lo aprendido que te sea útil.\n",
    "7. Encapsula todo en un `main.py` y un `utils.py` para ejecutarlo desde terminal.\n",
    "8. Sube tu proyecto a un repositorio de github y prepara una demo (solo se podrá enseñar desde terminal) para la presentación de tu proyecto."
   ]
  },
  {
   "cell_type": "markdown",
   "metadata": {},
   "source": [
    "## Presentación\n",
    "Cada uno realizará una presentación el **viernes 9 de Mayo**, donde se contarán con **10 minutos máximo**, importante ceñirse al tiempo. Se tendrá que enseñar:\n",
    "1. El git clone del repositorio de github a tu ordenador y explicar las partes más relevantes del código.\n",
    "2. Una demo donde se muestre el correcto funcionamiento del código para jugar, ejecutándose desde terminal"
   ]
  },
  {
   "cell_type": "markdown",
   "metadata": {},
   "source": [
    "## Creación de tablero."
   ]
  },
  {
   "cell_type": "code",
   "execution_count": 1,
   "metadata": {},
   "outputs": [],
   "source": [
    "import numpy as np"
   ]
  },
  {
   "cell_type": "code",
   "execution_count": 2,
   "metadata": {},
   "outputs": [
    {
     "name": "stdout",
     "output_type": "stream",
     "text": [
      "[['_' '_' '_' '_' '_' '_' '_' '_' '_' '_']\n",
      " ['_' '_' '_' '_' '_' '_' '_' '_' '_' '_']\n",
      " ['_' '_' '_' '_' '_' '_' '_' '_' '_' '_']\n",
      " ['_' '_' '_' '_' '_' '_' '_' '_' '_' '_']\n",
      " ['_' '_' '_' '_' '_' '_' '_' '_' '_' '_']\n",
      " ['_' '_' '_' '_' '_' '_' '_' '_' '_' '_']\n",
      " ['_' '_' '_' '_' '_' '_' '_' '_' '_' '_']\n",
      " ['_' '_' '_' '_' '_' '_' '_' '_' '_' '_']\n",
      " ['_' '_' '_' '_' '_' '_' '_' '_' '_' '_']\n",
      " ['_' '_' '_' '_' '_' '_' '_' '_' '_' '_']]\n"
     ]
    }
   ],
   "source": [
    "tablero = np.full((10,10), \"_\")\n",
    "print(tablero)"
   ]
  },
  {
   "cell_type": "code",
   "execution_count": 3,
   "metadata": {},
   "outputs": [],
   "source": [
    "def crear_tablero():\n",
    "    tablero = np.full((10,10), \"_\")\n",
    "    return tablero"
   ]
  },
  {
   "cell_type": "code",
   "execution_count": 4,
   "metadata": {},
   "outputs": [],
   "source": [
    "tablero_jugador = crear_tablero()\n",
    "tablero_rival = crear_tablero()"
   ]
  },
  {
   "cell_type": "markdown",
   "metadata": {},
   "source": [
    "## Colocar barcos."
   ]
  },
  {
   "cell_type": "code",
   "execution_count": 5,
   "metadata": {},
   "outputs": [
    {
     "name": "stdout",
     "output_type": "stream",
     "text": [
      "[['_' '_' '_' 'O' 'O' 'O' 'O' '_' '_' '_']\n",
      " ['_' '_' '_' '_' '_' '_' '_' '_' '_' '_']\n",
      " ['_' '_' '_' '_' '_' '_' '_' '_' '_' '_']\n",
      " ['_' '_' '_' '_' '_' '_' '_' '_' '_' '_']\n",
      " ['_' '_' '_' '_' '_' '_' '_' '_' '_' '_']\n",
      " ['_' '_' '_' '_' '_' '_' '_' '_' '_' '_']\n",
      " ['_' '_' '_' '_' '_' '_' '_' '_' '_' '_']\n",
      " ['_' '_' '_' '_' '_' '_' '_' '_' '_' '_']\n",
      " ['_' '_' '_' '_' '_' '_' '_' '_' '_' '_']\n",
      " ['_' '_' '_' '_' '_' '_' '_' '_' '_' '_']]\n"
     ]
    }
   ],
   "source": [
    "tablero[0,3] = \"O\"\n",
    "tablero[0,4] = \"O\"\n",
    "tablero[0,5] = \"O\"\n",
    "tablero[0,6] = \"O\"\n",
    "print(tablero)"
   ]
  },
  {
   "cell_type": "code",
   "execution_count": 6,
   "metadata": {},
   "outputs": [
    {
     "name": "stdout",
     "output_type": "stream",
     "text": [
      "[['_' '_' '_' 'O' 'O' 'O' 'O' '_' '_' '_']\n",
      " ['_' '_' '_' '_' '_' '_' '_' 'O' '_' '_']\n",
      " ['_' '_' '_' '_' '_' '_' '_' '_' '_' '_']\n",
      " ['_' '_' '_' '_' '_' '_' '_' '_' '_' '_']\n",
      " ['_' '_' '_' '_' '_' '_' '_' 'O' '_' '_']\n",
      " ['_' '_' '_' '_' '_' '_' '_' 'O' '_' '_']\n",
      " ['_' '_' '_' '_' '_' '_' '_' 'O' '_' '_']\n",
      " ['_' '_' '_' '_' '_' '_' '_' '_' '_' '_']\n",
      " ['_' '_' '_' '_' '_' '_' '_' '_' 'O' 'O']\n",
      " ['_' '_' '_' '_' '_' '_' '_' '_' '_' '_']]\n"
     ]
    }
   ],
   "source": [
    "barco_jugador = [[[0,3], [0,4], [0,5], [0,6]], [[4,7], [5,7], [6,7]], [[8,8], [8,9]], [[1,7]]]\n",
    "\n",
    "for i in barco_jugador:\n",
    "    for j in i:\n",
    "        tablero[j[0], j[1]] = \"O\"\n",
    "    \n",
    "print(tablero)"
   ]
  },
  {
   "cell_type": "code",
   "execution_count": 7,
   "metadata": {},
   "outputs": [
    {
     "name": "stdout",
     "output_type": "stream",
     "text": [
      "[['_' '_' '_' 'O' 'O' 'O' 'O' '_' '_' '_']\n",
      " ['_' '_' '_' '_' '_' '_' '_' 'O' '_' '_']\n",
      " ['_' '_' '_' '_' '_' '_' '_' '_' '_' '_']\n",
      " ['_' '_' '_' '_' '_' '_' '_' '_' '_' '_']\n",
      " ['_' '_' '_' '_' '_' '_' '_' 'O' '_' '_']\n",
      " ['_' '_' '_' '_' '_' '_' '_' 'O' '_' '_']\n",
      " ['_' '_' '_' '_' '_' '_' '_' 'O' '_' '_']\n",
      " ['_' '_' '_' '_' '_' '_' '_' '_' '_' '_']\n",
      " ['_' '_' '_' '_' '_' '_' '_' '_' 'O' 'O']\n",
      " ['_' '_' '_' '_' '_' '_' '_' '_' '_' '_']]\n"
     ]
    }
   ],
   "source": [
    "print(tablero)"
   ]
  },
  {
   "cell_type": "markdown",
   "metadata": {},
   "source": [
    "# _________________________________________________________________________________________________\n",
    "# DIA 2"
   ]
  },
  {
   "cell_type": "code",
   "execution_count": 8,
   "metadata": {},
   "outputs": [],
   "source": [
    "barco_jugador = [[[0,3], [0,4], [0,5], [0,6]], [[4,7], [5,7], [6,7]], [[8,8], [8,9]], [[1,7]]]\n",
    "\n",
    "def crear_tablero():\n",
    "    tablero = np.full((10,10), \"_\")\n",
    "    return tablero\n",
    "\n",
    "\n",
    "# barco_1 = [[0,3], [0,4], [0,5], [0,6]]\n",
    "# barco_jugador = [[[0,3], [0,4], [0,5], [0,6]], [[4,7], [5,7], [6,7]], [[8,8], [8,9]], [[1,7]]]\n",
    "\n",
    "def colocar_barcos(tablero, barcos):\n",
    "    for  i in barcos:\n",
    "        for j in i:\n",
    "            tablero[j[0], j[1]] = \"O\"\n",
    "        \n",
    "    return tablero\n",
    "\n",
    "\n",
    "tablero = crear_tablero()\n",
    "tablero = colocar_barcos(tablero, barco_jugador)"
   ]
  },
  {
   "cell_type": "markdown",
   "metadata": {},
   "source": [
    "### SIMBOLOS.\n",
    "\n",
    "- \" \" = AGUA.\n",
    "- O = BARCO.\n",
    "- X = IMPACTOS.\n",
    "- \"#\" = DISPAROS AGUA.\n"
   ]
  },
  {
   "cell_type": "code",
   "execution_count": 9,
   "metadata": {},
   "outputs": [
    {
     "name": "stdout",
     "output_type": "stream",
     "text": [
      "[['_' '_' '_' 'X' 'O' 'O' 'O' '_' '_' '_']\n",
      " ['_' '_' '_' '_' '_' '_' '_' 'O' '_' '_']\n",
      " ['_' '_' '_' '_' '_' '_' '_' '_' '_' '_']\n",
      " ['_' '_' '_' '_' '_' '_' '_' '_' '_' '_']\n",
      " ['_' '_' '_' '_' '_' '_' '_' 'O' '_' '_']\n",
      " ['_' '_' '_' '_' '_' '_' '_' 'O' '_' '_']\n",
      " ['_' '_' '_' '_' '_' '_' '_' 'O' '_' '_']\n",
      " ['_' '_' '_' '_' '_' '_' '_' '_' '_' '_']\n",
      " ['_' '_' '_' '_' '_' '_' '_' '_' 'O' 'O']\n",
      " ['_' '_' '_' '_' '_' '_' '_' '_' '_' '_']]\n"
     ]
    }
   ],
   "source": [
    "if tablero[0,3] ==\"O\":\n",
    "    tablero[0,3] = \"X\"\n",
    "else:\n",
    "    tablero[0,3] = \"#\"\n",
    "\n",
    "print(tablero)"
   ]
  },
  {
   "cell_type": "code",
   "execution_count": 10,
   "metadata": {},
   "outputs": [],
   "source": [
    "lista_disparos = []\n",
    "def disparo():\n",
    "    fila = int(input(\"selecciona la fila\"))\n",
    "    columna = int(input(\"selecciona la columna\"))\n",
    "    if tablero[fila,columna] ==\"O\":\n",
    "        tablero[fila,columna] = \"X\"\n",
    "    elif tablero[fila,columna] == \"#\" or tablero[fila, columna] == \"X\":\n",
    "        print(\"Posiccion ya seleccionada\")\n",
    "        disparo()\n",
    "    else:\n",
    "        tablero[fila,columna] = \"#\"\n",
    "\n",
    "    return tablero"
   ]
  },
  {
   "cell_type": "code",
   "execution_count": 11,
   "metadata": {},
   "outputs": [
    {
     "name": "stdout",
     "output_type": "stream",
     "text": [
      "Posiccion ya seleccionada\n"
     ]
    }
   ],
   "source": [
    "tablero = disparo()\n"
   ]
  },
  {
   "cell_type": "code",
   "execution_count": 12,
   "metadata": {},
   "outputs": [
    {
     "name": "stdout",
     "output_type": "stream",
     "text": [
      "[['_' '_' '_' 'X' 'O' 'O' 'O' '_' '_' '_']\n",
      " ['_' '_' '_' '_' '_' '_' '_' 'O' '_' '_']\n",
      " ['_' '_' '#' '_' '_' '_' '_' '_' '_' '_']\n",
      " ['_' '_' '_' '_' '_' '_' '_' '_' '_' '_']\n",
      " ['_' '_' '_' '_' '_' '_' '_' 'O' '_' '_']\n",
      " ['_' '_' '_' '_' '_' '_' '_' 'O' '_' '_']\n",
      " ['_' '_' '_' '_' '_' '_' '_' 'O' '_' '_']\n",
      " ['_' '_' '_' '_' '_' '_' '_' '_' '_' '_']\n",
      " ['_' '_' '_' '_' '_' '_' '_' '_' 'O' 'O']\n",
      " ['_' '_' '_' '_' '_' '_' '_' '_' '_' '_']]\n"
     ]
    }
   ],
   "source": [
    "print(tablero)"
   ]
  },
  {
   "cell_type": "code",
   "execution_count": 20,
   "metadata": {},
   "outputs": [
    {
     "ename": "UFuncTypeError",
     "evalue": "ufunc 'greater' did not contain a loop with signature matching types (<class 'numpy.dtypes.StrDType'>, <class 'numpy.dtypes._PyLongDType'>) -> None",
     "output_type": "error",
     "traceback": [
      "\u001b[31m---------------------------------------------------------------------------\u001b[39m",
      "\u001b[31mUFuncTypeError\u001b[39m                            Traceback (most recent call last)",
      "\u001b[36mCell\u001b[39m\u001b[36m \u001b[39m\u001b[32mIn[20]\u001b[39m\u001b[32m, line 3\u001b[39m\n\u001b[32m      1\u001b[39m \u001b[38;5;66;03m#Bulcle para repartir el turno de juego\u001b[39;00m\n\u001b[32m      2\u001b[39m Turno=\u001b[32m1\u001b[39m\n\u001b[32m----> \u001b[39m\u001b[32m3\u001b[39m \u001b[38;5;28;01mwhile\u001b[39;00m \u001b[33;43m\"\u001b[39;49m\u001b[33;43mO\u001b[39;49m\u001b[33;43m\"\u001b[39;49m\u001b[43m \u001b[49m\u001b[38;5;129;43;01min\u001b[39;49;00m\u001b[43m \u001b[49m\u001b[43mtablero\u001b[49m\u001b[43m>\u001b[49m\u001b[32;43m0\u001b[39;49m:\n\u001b[32m      4\u001b[39m     \u001b[38;5;28;01mif\u001b[39;00m Turno==\u001b[32m1\u001b[39m:\u001b[38;5;66;03m#turno del jugador\u001b[39;00m\n\u001b[32m      5\u001b[39m         \u001b[38;5;28mprint\u001b[39m(\u001b[33m\"\u001b[39m\u001b[33mTurno del jugador\u001b[39m\u001b[33m\"\u001b[39m)\n",
      "\u001b[31mUFuncTypeError\u001b[39m: ufunc 'greater' did not contain a loop with signature matching types (<class 'numpy.dtypes.StrDType'>, <class 'numpy.dtypes._PyLongDType'>) -> None"
     ]
    }
   ],
   "source": [
    "#Bulcle para repartir el turno de juego\n",
    "Turno=1\n",
    "while \"O\" in tablero>0:\n",
    "    if Turno==1:#turno del jugador\n",
    "        print(\"Turno del jugador\")\n",
    "        disparo_jugador=input ()\n",
    "        tablero_jugador_disparos=utils.disparo()\n",
    "        tablero_rival_barcos= utils.disparo()\n",
    "        print(tablero_jugador_disparos)\n",
    "        print(tablero_rival_barcos)\n",
    "        Turno=0\n",
    "        \n",
    "    else:\n",
    "        print(\"Turno del rival\")\n",
    "        disparo_jugador=input ()\n",
    "        tablero_rival_disparos=utils.disparo()\n",
    "        tablero_jugador_barcos= utils.disparo()\n",
    "        print(tablero_rival_disparos)\n",
    "        print(tablero_jugador_barcos)\n",
    "        Turno=1\n",
    "\n",
    "\n",
    "print(\"Se ha teminado el juego, hay un ganador\")\n",
    "\n"
   ]
  }
 ],
 "metadata": {
  "kernelspec": {
   "display_name": "Python 3",
   "language": "python",
   "name": "python3"
  },
  "language_info": {
   "codemirror_mode": {
    "name": "ipython",
    "version": 3
   },
   "file_extension": ".py",
   "mimetype": "text/x-python",
   "name": "python",
   "nbconvert_exporter": "python",
   "pygments_lexer": "ipython3",
   "version": "3.11.9"
  },
  "orig_nbformat": 4
 },
 "nbformat": 4,
 "nbformat_minor": 2
}
